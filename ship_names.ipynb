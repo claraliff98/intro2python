{
 "cells": [
  {
   "cell_type": "code",
   "execution_count": 73,
   "metadata": {},
   "outputs": [
    {
     "name": "stdout",
     "output_type": "stream",
     "text": [
      "hello sharon\n"
     ]
    }
   ],
   "source": [
    "print('hello sharon')"
   ]
  },
  {
   "cell_type": "code",
   "execution_count": 74,
   "metadata": {},
   "outputs": [],
   "source": [
    "def next_syllable(name_frag : str):\n",
    "    vowels = ['a','e','i','o','u']\n",
    "    \n",
    "    if name_frag == '':\n",
    "        syllable = ''\n",
    "        return syllable\n",
    "\n",
    "    found_vowel_before_consonant = False\n",
    "    ends_in_vowel = False\n",
    "    found_vowel = False\n",
    "    found_consonant = True\n",
    "    found_last_vowel = True\n",
    "\n",
    "    i = 0\n",
    "\n",
    "    while found_vowel_before_consonant == False and ends_in_vowel == False:\n",
    "        \n",
    "        # Check if letter at index i is a vowel\n",
    "        for j in range(len(vowels)):\n",
    "            if name_frag[i] == vowels[j]:\n",
    "\n",
    "                # If letter at index i is a vowel:\n",
    "                found_vowel = True\n",
    "\n",
    "                # Check if it's the last vowel in the name fragment\n",
    "                rest_of_name = name_frag[i+1:]\n",
    "                for x in range(len(rest_of_name)):\n",
    "                    for y in range(len(vowels)):\n",
    "                        if rest_of_name[x] == vowels[y]:\n",
    "                            found_last_vowel = False\n",
    "\n",
    "                # Check if the next letter is a consonant. Assume it's a consonant unless it matches a vowel\n",
    "                found_consonant = True\n",
    "                for k in range(len(vowels)):\n",
    "                    try:\n",
    "                        if name_frag[i+1] == vowels[k]:\n",
    "                            found_consonant = False\n",
    "                            break\n",
    "                    except IndexError:\n",
    "                        ends_in_vowel = True\n",
    "                        break\n",
    "                if ends_in_vowel:\n",
    "                    break\n",
    "                elif found_vowel and found_consonant:\n",
    "                    found_vowel_before_consonant = True\n",
    "        i+=1\n",
    "\n",
    "    if found_last_vowel or ends_in_vowel:\n",
    "        syllable = name_frag[0:]\n",
    "    elif found_vowel_before_consonant:\n",
    "        if name_frag[i:i+2] == 'sh':\n",
    "            syllable = name_frag[0:i+2]\n",
    "        else:\n",
    "            syllable = name_frag[0:i]\n",
    "\n",
    "    return syllable"
   ]
  },
  {
   "cell_type": "code",
   "execution_count": 75,
   "metadata": {},
   "outputs": [
    {
     "data": {
      "text/plain": [
       "'ron'"
      ]
     },
     "execution_count": 75,
     "metadata": {},
     "output_type": "execute_result"
    }
   ],
   "source": [
    "# Test\n",
    "next_syllable('ron')"
   ]
  },
  {
   "cell_type": "code",
   "execution_count": 76,
   "metadata": {},
   "outputs": [],
   "source": [
    "def name_generator(person1 : str, person2 : str):\n",
    "    if person1 == '' or person2 == '':\n",
    "        return 'please enter two names'\n",
    "    elif type(person1) != str or type(person2) != str:\n",
    "        return 'please enter two strings'\n",
    "    \n",
    "    person1_first = next_syllable(person1)\n",
    "\n",
    "    person2_working = person2\n",
    "    while next_syllable(person2_working) != '':\n",
    "        current_syllable = next_syllable(person2_working)\n",
    "        person2_working = person2_working[len(current_syllable):] #Delete current syllable until you reach the last one\n",
    "    person2_last =  current_syllable\n",
    "\n",
    "    couple_name = person1_first + person2_last\n",
    "    \n",
    "    if couple_name == person1 or couple_name == person2:\n",
    "       couple_name = next_syllable(person1) + next_syllable(person2)\n",
    "\n",
    "    return couple_name"
   ]
  },
  {
   "cell_type": "code",
   "execution_count": 78,
   "metadata": {},
   "outputs": [
    {
     "data": {
      "text/plain": [
       "'clacla'"
      ]
     },
     "execution_count": 78,
     "metadata": {},
     "output_type": "execute_result"
    }
   ],
   "source": [
    "# Test\n",
    "name_generator('clara','clara')"
   ]
  }
 ],
 "metadata": {
  "kernelspec": {
   "display_name": "intropython",
   "language": "python",
   "name": "python3"
  },
  "language_info": {
   "codemirror_mode": {
    "name": "ipython",
    "version": 3
   },
   "file_extension": ".py",
   "mimetype": "text/x-python",
   "name": "python",
   "nbconvert_exporter": "python",
   "pygments_lexer": "ipython3",
   "version": "3.10.12"
  }
 },
 "nbformat": 4,
 "nbformat_minor": 2
}
