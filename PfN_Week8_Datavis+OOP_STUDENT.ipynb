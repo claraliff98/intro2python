{
 "cells": [
  {
   "cell_type": "markdown",
   "metadata": {},
   "source": [
    "![Logo](https://github.com/Columbia-Neuropythonistas/IntroPythonForNeuroscientists2023/assets/65978061/138766b5-ac36-4dc8-b9d4-bf512ecebe78)\n",
    "\n",
    "# **Week 8: Data Visualization and Object-Oriented Programming**"
   ]
  },
  {
   "cell_type": "markdown",
   "metadata": {},
   "source": [
    "## Data Visualization first, with *real data!*\n",
    "We'll begin today by loading in some (real!) data. Before we do that though, we need to import some packages."
   ]
  },
  {
   "cell_type": "code",
   "execution_count": 1,
   "metadata": {},
   "outputs": [],
   "source": [
    "#remember that when we use 'as', we are simply telling Python what term we want to refer to our imported packages by\n",
    "import pandas as pd\n",
    "import numpy as np\n",
    "import matplotlib.pyplot as plt\n",
    "import seaborn as sns\n",
    "\n",
    "#this does some important stuff behind the scenes for plotting specifically for jupyter notebooks (same in vscode), ask us if you want to learn more!\n",
    "%matplotlib inline \n"
   ]
  },
  {
   "cell_type": "markdown",
   "metadata": {},
   "source": [
    "Now, let's load and examine our data!"
   ]
  },
  {
   "cell_type": "code",
   "execution_count": 2,
   "metadata": {},
   "outputs": [
    {
     "data": {
      "text/html": [
       "<div>\n",
       "<style scoped>\n",
       "    .dataframe tbody tr th:only-of-type {\n",
       "        vertical-align: middle;\n",
       "    }\n",
       "\n",
       "    .dataframe tbody tr th {\n",
       "        vertical-align: top;\n",
       "    }\n",
       "\n",
       "    .dataframe thead th {\n",
       "        text-align: right;\n",
       "    }\n",
       "</style>\n",
       "<table border=\"1\" class=\"dataframe\">\n",
       "  <thead>\n",
       "    <tr style=\"text-align: right;\">\n",
       "      <th></th>\n",
       "      <th>dF/F</th>\n",
       "      <th>time_from_stim</th>\n",
       "      <th>cell_id</th>\n",
       "      <th>exposure</th>\n",
       "      <th>trial_id</th>\n",
       "      <th>omitted</th>\n",
       "      <th>pupil_area</th>\n",
       "      <th>mean_response</th>\n",
       "    </tr>\n",
       "  </thead>\n",
       "  <tbody>\n",
       "    <tr>\n",
       "      <th>0</th>\n",
       "      <td>0.213396</td>\n",
       "      <td>-1.228129</td>\n",
       "      <td>1086500633</td>\n",
       "      <td>familiar</td>\n",
       "      <td>24</td>\n",
       "      <td>False</td>\n",
       "      <td>5636.081391</td>\n",
       "      <td>0.055830</td>\n",
       "    </tr>\n",
       "    <tr>\n",
       "      <th>1</th>\n",
       "      <td>-0.096333</td>\n",
       "      <td>-1.195810</td>\n",
       "      <td>1086500633</td>\n",
       "      <td>familiar</td>\n",
       "      <td>24</td>\n",
       "      <td>False</td>\n",
       "      <td>5636.081391</td>\n",
       "      <td>0.055830</td>\n",
       "    </tr>\n",
       "    <tr>\n",
       "      <th>2</th>\n",
       "      <td>-0.117812</td>\n",
       "      <td>-1.163491</td>\n",
       "      <td>1086500633</td>\n",
       "      <td>familiar</td>\n",
       "      <td>24</td>\n",
       "      <td>False</td>\n",
       "      <td>5636.081391</td>\n",
       "      <td>0.055830</td>\n",
       "    </tr>\n",
       "    <tr>\n",
       "      <th>3</th>\n",
       "      <td>0.096526</td>\n",
       "      <td>-1.131172</td>\n",
       "      <td>1086500633</td>\n",
       "      <td>familiar</td>\n",
       "      <td>24</td>\n",
       "      <td>False</td>\n",
       "      <td>5636.081391</td>\n",
       "      <td>0.055830</td>\n",
       "    </tr>\n",
       "    <tr>\n",
       "      <th>4</th>\n",
       "      <td>-0.000783</td>\n",
       "      <td>-1.098852</td>\n",
       "      <td>1086500633</td>\n",
       "      <td>familiar</td>\n",
       "      <td>24</td>\n",
       "      <td>False</td>\n",
       "      <td>5636.081391</td>\n",
       "      <td>0.055830</td>\n",
       "    </tr>\n",
       "    <tr>\n",
       "      <th>...</th>\n",
       "      <td>...</td>\n",
       "      <td>...</td>\n",
       "      <td>...</td>\n",
       "      <td>...</td>\n",
       "      <td>...</td>\n",
       "      <td>...</td>\n",
       "      <td>...</td>\n",
       "      <td>...</td>\n",
       "    </tr>\n",
       "    <tr>\n",
       "      <th>689770</th>\n",
       "      <td>-0.116568</td>\n",
       "      <td>1.357393</td>\n",
       "      <td>1086500770</td>\n",
       "      <td>novel</td>\n",
       "      <td>4802</td>\n",
       "      <td>False</td>\n",
       "      <td>7985.740772</td>\n",
       "      <td>-0.040271</td>\n",
       "    </tr>\n",
       "    <tr>\n",
       "      <th>689771</th>\n",
       "      <td>-0.011238</td>\n",
       "      <td>1.389711</td>\n",
       "      <td>1086500770</td>\n",
       "      <td>novel</td>\n",
       "      <td>4802</td>\n",
       "      <td>False</td>\n",
       "      <td>7985.740772</td>\n",
       "      <td>-0.040271</td>\n",
       "    </tr>\n",
       "    <tr>\n",
       "      <th>689772</th>\n",
       "      <td>0.057402</td>\n",
       "      <td>1.422030</td>\n",
       "      <td>1086500770</td>\n",
       "      <td>novel</td>\n",
       "      <td>4802</td>\n",
       "      <td>False</td>\n",
       "      <td>7985.740772</td>\n",
       "      <td>-0.040271</td>\n",
       "    </tr>\n",
       "    <tr>\n",
       "      <th>689773</th>\n",
       "      <td>0.114362</td>\n",
       "      <td>1.454349</td>\n",
       "      <td>1086500770</td>\n",
       "      <td>novel</td>\n",
       "      <td>4802</td>\n",
       "      <td>False</td>\n",
       "      <td>7985.740772</td>\n",
       "      <td>-0.040271</td>\n",
       "    </tr>\n",
       "    <tr>\n",
       "      <th>689774</th>\n",
       "      <td>-0.073561</td>\n",
       "      <td>1.486668</td>\n",
       "      <td>1086500770</td>\n",
       "      <td>novel</td>\n",
       "      <td>4802</td>\n",
       "      <td>False</td>\n",
       "      <td>7985.740772</td>\n",
       "      <td>-0.040271</td>\n",
       "    </tr>\n",
       "  </tbody>\n",
       "</table>\n",
       "<p>689775 rows × 8 columns</p>\n",
       "</div>"
      ],
      "text/plain": [
       "            dF/F  time_from_stim     cell_id  exposure  trial_id  omitted  \\\n",
       "0       0.213396       -1.228129  1086500633  familiar        24    False   \n",
       "1      -0.096333       -1.195810  1086500633  familiar        24    False   \n",
       "2      -0.117812       -1.163491  1086500633  familiar        24    False   \n",
       "3       0.096526       -1.131172  1086500633  familiar        24    False   \n",
       "4      -0.000783       -1.098852  1086500633  familiar        24    False   \n",
       "...          ...             ...         ...       ...       ...      ...   \n",
       "689770 -0.116568        1.357393  1086500770     novel      4802    False   \n",
       "689771 -0.011238        1.389711  1086500770     novel      4802    False   \n",
       "689772  0.057402        1.422030  1086500770     novel      4802    False   \n",
       "689773  0.114362        1.454349  1086500770     novel      4802    False   \n",
       "689774 -0.073561        1.486668  1086500770     novel      4802    False   \n",
       "\n",
       "         pupil_area  mean_response  \n",
       "0       5636.081391       0.055830  \n",
       "1       5636.081391       0.055830  \n",
       "2       5636.081391       0.055830  \n",
       "3       5636.081391       0.055830  \n",
       "4       5636.081391       0.055830  \n",
       "...             ...            ...  \n",
       "689770  7985.740772      -0.040271  \n",
       "689771  7985.740772      -0.040271  \n",
       "689772  7985.740772      -0.040271  \n",
       "689773  7985.740772      -0.040271  \n",
       "689774  7985.740772      -0.040271  \n",
       "\n",
       "[689775 rows x 8 columns]"
      ]
     },
     "execution_count": 2,
     "metadata": {},
     "output_type": "execute_result"
    }
   ],
   "source": [
    "data = pd.read_csv('SST_data.csv')\n",
    "data"
   ]
  },
  {
   "cell_type": "markdown",
   "metadata": {},
   "source": [
    "This dataset is borrowed from [Neuromatch Academy](https://compneuro.neuromatch.io/projects/neurons/README.html), but this is very much real data, generated by the Allen Institute! Briefly, what you see here are two-photon calcium imaging signals from a single mouse performing a visual change detection task. I've curated this dataset just a little bit, so we're only looking at SST-expressing interneurons. To better understand what's going on here, let's traverse this dataframe a little bit.\n",
    "\n",
    "P.S. If you want to learn more about the dataset, check out the youtube video in the NMA link!"
   ]
  },
  {
   "cell_type": "code",
   "execution_count": 3,
   "metadata": {},
   "outputs": [
    {
     "data": {
      "text/plain": [
       "array([1086500633, 1086500392, 1086500770, 1086500872, 1086499783,\n",
       "       1086499911, 1086500092, 1086500297, 1086501106, 1086501010,\n",
       "       1086499499, 1086500194, 1086499628])"
      ]
     },
     "execution_count": 3,
     "metadata": {},
     "output_type": "execute_result"
    }
   ],
   "source": [
    "#You can index dataframes using .COLUMN_NAME or by using brackets: [COLUMN_NAME] - Pandas is very flexible!\n",
    "data.cell_id.unique()"
   ]
  },
  {
   "cell_type": "code",
   "execution_count": 4,
   "metadata": {},
   "outputs": [
    {
     "data": {
      "text/html": [
       "<div>\n",
       "<style scoped>\n",
       "    .dataframe tbody tr th:only-of-type {\n",
       "        vertical-align: middle;\n",
       "    }\n",
       "\n",
       "    .dataframe tbody tr th {\n",
       "        vertical-align: top;\n",
       "    }\n",
       "\n",
       "    .dataframe thead th {\n",
       "        text-align: right;\n",
       "    }\n",
       "</style>\n",
       "<table border=\"1\" class=\"dataframe\">\n",
       "  <thead>\n",
       "    <tr style=\"text-align: right;\">\n",
       "      <th></th>\n",
       "      <th>dF/F</th>\n",
       "      <th>time_from_stim</th>\n",
       "      <th>cell_id</th>\n",
       "      <th>exposure</th>\n",
       "      <th>trial_id</th>\n",
       "      <th>omitted</th>\n",
       "      <th>pupil_area</th>\n",
       "      <th>mean_response</th>\n",
       "    </tr>\n",
       "  </thead>\n",
       "  <tbody>\n",
       "    <tr>\n",
       "      <th>0</th>\n",
       "      <td>0.213396</td>\n",
       "      <td>-1.228129</td>\n",
       "      <td>1086500633</td>\n",
       "      <td>familiar</td>\n",
       "      <td>24</td>\n",
       "      <td>False</td>\n",
       "      <td>5636.081391</td>\n",
       "      <td>0.05583</td>\n",
       "    </tr>\n",
       "    <tr>\n",
       "      <th>1</th>\n",
       "      <td>-0.096333</td>\n",
       "      <td>-1.195810</td>\n",
       "      <td>1086500633</td>\n",
       "      <td>familiar</td>\n",
       "      <td>24</td>\n",
       "      <td>False</td>\n",
       "      <td>5636.081391</td>\n",
       "      <td>0.05583</td>\n",
       "    </tr>\n",
       "    <tr>\n",
       "      <th>2</th>\n",
       "      <td>-0.117812</td>\n",
       "      <td>-1.163491</td>\n",
       "      <td>1086500633</td>\n",
       "      <td>familiar</td>\n",
       "      <td>24</td>\n",
       "      <td>False</td>\n",
       "      <td>5636.081391</td>\n",
       "      <td>0.05583</td>\n",
       "    </tr>\n",
       "    <tr>\n",
       "      <th>3</th>\n",
       "      <td>0.096526</td>\n",
       "      <td>-1.131172</td>\n",
       "      <td>1086500633</td>\n",
       "      <td>familiar</td>\n",
       "      <td>24</td>\n",
       "      <td>False</td>\n",
       "      <td>5636.081391</td>\n",
       "      <td>0.05583</td>\n",
       "    </tr>\n",
       "    <tr>\n",
       "      <th>4</th>\n",
       "      <td>-0.000783</td>\n",
       "      <td>-1.098852</td>\n",
       "      <td>1086500633</td>\n",
       "      <td>familiar</td>\n",
       "      <td>24</td>\n",
       "      <td>False</td>\n",
       "      <td>5636.081391</td>\n",
       "      <td>0.05583</td>\n",
       "    </tr>\n",
       "    <tr>\n",
       "      <th>...</th>\n",
       "      <td>...</td>\n",
       "      <td>...</td>\n",
       "      <td>...</td>\n",
       "      <td>...</td>\n",
       "      <td>...</td>\n",
       "      <td>...</td>\n",
       "      <td>...</td>\n",
       "      <td>...</td>\n",
       "    </tr>\n",
       "    <tr>\n",
       "      <th>80</th>\n",
       "      <td>-0.076015</td>\n",
       "      <td>1.357406</td>\n",
       "      <td>1086500633</td>\n",
       "      <td>familiar</td>\n",
       "      <td>24</td>\n",
       "      <td>False</td>\n",
       "      <td>5636.081391</td>\n",
       "      <td>0.05583</td>\n",
       "    </tr>\n",
       "    <tr>\n",
       "      <th>81</th>\n",
       "      <td>0.017808</td>\n",
       "      <td>1.389725</td>\n",
       "      <td>1086500633</td>\n",
       "      <td>familiar</td>\n",
       "      <td>24</td>\n",
       "      <td>False</td>\n",
       "      <td>5636.081391</td>\n",
       "      <td>0.05583</td>\n",
       "    </tr>\n",
       "    <tr>\n",
       "      <th>82</th>\n",
       "      <td>-0.085116</td>\n",
       "      <td>1.422044</td>\n",
       "      <td>1086500633</td>\n",
       "      <td>familiar</td>\n",
       "      <td>24</td>\n",
       "      <td>False</td>\n",
       "      <td>5636.081391</td>\n",
       "      <td>0.05583</td>\n",
       "    </tr>\n",
       "    <tr>\n",
       "      <th>83</th>\n",
       "      <td>-0.176912</td>\n",
       "      <td>1.454364</td>\n",
       "      <td>1086500633</td>\n",
       "      <td>familiar</td>\n",
       "      <td>24</td>\n",
       "      <td>False</td>\n",
       "      <td>5636.081391</td>\n",
       "      <td>0.05583</td>\n",
       "    </tr>\n",
       "    <tr>\n",
       "      <th>84</th>\n",
       "      <td>0.061851</td>\n",
       "      <td>1.486683</td>\n",
       "      <td>1086500633</td>\n",
       "      <td>familiar</td>\n",
       "      <td>24</td>\n",
       "      <td>False</td>\n",
       "      <td>5636.081391</td>\n",
       "      <td>0.05583</td>\n",
       "    </tr>\n",
       "  </tbody>\n",
       "</table>\n",
       "<p>85 rows × 8 columns</p>\n",
       "</div>"
      ],
      "text/plain": [
       "        dF/F  time_from_stim     cell_id  exposure  trial_id  omitted  \\\n",
       "0   0.213396       -1.228129  1086500633  familiar        24    False   \n",
       "1  -0.096333       -1.195810  1086500633  familiar        24    False   \n",
       "2  -0.117812       -1.163491  1086500633  familiar        24    False   \n",
       "3   0.096526       -1.131172  1086500633  familiar        24    False   \n",
       "4  -0.000783       -1.098852  1086500633  familiar        24    False   \n",
       "..       ...             ...         ...       ...       ...      ...   \n",
       "80 -0.076015        1.357406  1086500633  familiar        24    False   \n",
       "81  0.017808        1.389725  1086500633  familiar        24    False   \n",
       "82 -0.085116        1.422044  1086500633  familiar        24    False   \n",
       "83 -0.176912        1.454364  1086500633  familiar        24    False   \n",
       "84  0.061851        1.486683  1086500633  familiar        24    False   \n",
       "\n",
       "     pupil_area  mean_response  \n",
       "0   5636.081391        0.05583  \n",
       "1   5636.081391        0.05583  \n",
       "2   5636.081391        0.05583  \n",
       "3   5636.081391        0.05583  \n",
       "4   5636.081391        0.05583  \n",
       "..          ...            ...  \n",
       "80  5636.081391        0.05583  \n",
       "81  5636.081391        0.05583  \n",
       "82  5636.081391        0.05583  \n",
       "83  5636.081391        0.05583  \n",
       "84  5636.081391        0.05583  \n",
       "\n",
       "[85 rows x 8 columns]"
      ]
     },
     "execution_count": 4,
     "metadata": {},
     "output_type": "execute_result"
    }
   ],
   "source": [
    "singlecell_trial_data = data[(data.trial_id == 24) & (data.cell_id == 1086500633)]\n",
    "singlecell_trial_data"
   ]
  },
  {
   "cell_type": "markdown",
   "metadata": {},
   "source": [
    "Ok, now that we've examined the dataset a little bit, let me provide some documentation:\n",
    "\n",
    "`dF/F` is the instantaneous calcium imaging signal <br>\n",
    "`time_from_stim` is the timepoint of each row of data, aligned to an image presentation <br>\n",
    "`cell_id` self explanatory I hope <br>\n",
    "`exposure` whether the image for a a trial was familiar or novel  <br>\n",
    "`trial_id` each image presentation is a separate trial <br>\n",
    "`omitted` whether a trial had an omitted image <br>\n",
    "`pupil_area` measured 500ms after stimulus presntation <br>\n",
    "`mean_response` average dF/F over the 500ms following image presentation <br>"
   ]
  },
  {
   "cell_type": "markdown",
   "metadata": {},
   "source": [
    "### When do I use matplotlib, and when do I use seaborn?\n",
    "\n",
    "Think of matplotlib as a basic set of tools with which to build plots in Python. Often times, we just quickly want to visualize data, which could be as simple as an array/vector of points. Matplotlib is amazing at this."
   ]
  },
  {
   "cell_type": "code",
   "execution_count": 5,
   "metadata": {},
   "outputs": [
    {
     "data": {
      "text/plain": [
       "array([ 0.        , -0.00496857,  0.00674423, -0.01763263, -0.04761156,\n",
       "        0.08080438, -0.07205429, -0.00055223,  0.06000325, -0.1114908 ,\n",
       "        0.05540281, -0.02635718,  0.0029113 ,  0.04146674, -0.00243199,\n",
       "        0.01709818, -0.13901514, -0.12144603, -0.06014833, -0.04648617,\n",
       "        0.06432796, -0.05723911, -0.01201382,  0.1456255 ,  0.08782762,\n",
       "        0.20943731,  0.06826705, -0.05812632, -0.04514774, -0.01683397,\n",
       "        0.1182166 ,  0.1507158 ,  0.03490584, -0.13279231, -0.06884541,\n",
       "       -0.09240516, -0.08629911, -0.04207015, -0.03112201, -0.09212433,\n",
       "        0.        ,  0.03379494, -0.04013482,  0.00201452, -0.13413554,\n",
       "       -0.015636  , -0.01559674,  0.04832751, -0.03531285,  0.11599413,\n",
       "       -0.00475846, -0.00955742, -0.03567727,  0.03658258,  0.05781025,\n",
       "        0.0681921 , -0.13838767,  0.00517592, -0.13026594, -0.11078066,\n",
       "       -0.07357377, -0.09089381, -0.11607467, -0.04319401, -0.09791592,\n",
       "        0.01013106, -0.06501874, -0.04850751,  0.11253423, -0.04441446,\n",
       "        0.07100736,  0.07980902,  0.12420612,  0.00576349,  0.03208485,\n",
       "        0.03290984, -0.01338211, -0.16138682,  0.06534704, -0.03730698,\n",
       "       -0.04475717,  0.04929449, -0.09359215, -0.12676656, -0.04454694])"
      ]
     },
     "execution_count": 5,
     "metadata": {},
     "output_type": "execute_result"
    }
   ],
   "source": [
    "single_trial_data = data[(data.trial_id == 605) & (data.cell_id == 1086500092)]\n",
    "single_trial_trace = np.array(single_trial_data['dF/F'])\n",
    "single_trial_trace"
   ]
  },
  {
   "cell_type": "code",
   "execution_count": 6,
   "metadata": {},
   "outputs": [
    {
     "data": {
      "text/plain": [
       "[<matplotlib.lines.Line2D at 0x7ff289ef32b0>]"
      ]
     },
     "execution_count": 6,
     "metadata": {},
     "output_type": "execute_result"
    },
    {
     "data": {
      "image/png": "[encoded data removed]",
      "text/plain": [
       "<Figure size 640x480 with 1 Axes>"
      ]
     },
     "metadata": {},
     "output_type": "display_data"
    }
   ],
   "source": [
    "plt.plot(single_trial_trace)"
   ]
  },
  {
   "cell_type": "markdown",
   "metadata": {},
   "source": [
    "What other quick functionality might we want here?"
   ]
  },
  {
   "cell_type": "code",
   "execution_count": 7,
   "metadata": {},
   "outputs": [
    {
     "data": {
      "text/plain": [
       "[<matplotlib.lines.Line2D at 0x7ff270337ca0>]"
      ]
     },
     "execution_count": 7,
     "metadata": {},
     "output_type": "execute_result"
    },
    {
     "data": {
      "image/png": "[encoded data removed]",
      "text/plain": [
       "<Figure size 640x480 with 1 Axes>"
      ]
     },
     "metadata": {},
     "output_type": "display_data"
    }
   ],
   "source": [
    "single_trial_timepoints = np.array(single_trial_data['time_from_stim'])\n",
    "plt.plot(single_trial_timepoints, single_trial_trace)"
   ]
  },
  {
   "cell_type": "markdown",
   "metadata": {},
   "source": [
    "Ok, this is great, but we have tons of data! What if we want to plot that?"
   ]
  },
  {
   "cell_type": "code",
   "execution_count": 8,
   "metadata": {},
   "outputs": [
    {
     "data": {
      "text/plain": [
       "[<matplotlib.lines.Line2D at 0x7ff2703a7c10>]"
      ]
     },
     "execution_count": 8,
     "metadata": {},
     "output_type": "execute_result"
    },
    {
     "data": {
      "image/png": "[encoded data removed]",
      "text/plain": [
       "<Figure size 640x480 with 1 Axes>"
      ]
     },
     "metadata": {},
     "output_type": "display_data"
    }
   ],
   "source": [
    "plt.plot(data['dF/F'])"
   ]
  },
  {
   "cell_type": "markdown",
   "metadata": {},
   "source": [
    "That isn't very useful ... We could go through and organize our dataframe, take some averages, and then do a lot of work to make the plot look pretty, but it would be way easier if something did that automatically ..."
   ]
  },
  {
   "cell_type": "markdown",
   "metadata": {},
   "source": [
    "## Plotting data with Seaborn"
   ]
  },
  {
   "cell_type": "markdown",
   "metadata": {},
   "source": [
    "One thing that's important to note about our dataset is that it's long-form, not wide (e.g. column labels don't correspond to time, but rather, each row represents a separate single observation). While this may seem confusing at first, it makes things intensely convenient when we use **Seaborn**, a plotting package that's built on top of matplotlib."
   ]
  },
  {
   "cell_type": "code",
   "execution_count": null,
   "metadata": {},
   "outputs": [],
   "source": [
    "#ignore this for now, it just makes things look good\n",
    "sns.set_style(\"ticks\")\n",
    "sns.set_context(\"notebook\")\n",
    "\n",
    "sns.lineplot(data = data, x = 'time_from_stim', y = 'dF/F')"
   ]
  },
  {
   "cell_type": "markdown",
   "metadata": {},
   "source": [
    "Seaborn is super simple to use! We pass in a dataframe, and then specify what we want to plot on the x-axis, and what we want to plot on the y-axis, using labels from the dataframe.\n",
    "\n",
    "What if we want our x-axis to be categorical instead? Let's google a solution! We can use **documentation** to understand how to use Seaborn. [Let's go!](https://seaborn.pydata.org/)"
   ]
  },
  {
   "cell_type": "code",
   "execution_count": null,
   "metadata": {},
   "outputs": [],
   "source": []
  },
  {
   "cell_type": "markdown",
   "metadata": {},
   "source": [
    "## Problem 1\n",
    "Make a barplot, but instead of using mean response data, plot pupil size instead. As a challenge, try to adjust the y-axis to bring out the difference between familiar and novel. Use google to find a solution!"
   ]
  },
  {
   "cell_type": "code",
   "execution_count": null,
   "metadata": {},
   "outputs": [],
   "source": []
  },
  {
   "cell_type": "code",
   "execution_count": null,
   "metadata": {},
   "outputs": [],
   "source": []
  },
  {
   "cell_type": "markdown",
   "metadata": {},
   "source": [
    "## Splitting up data in Seaborn\n",
    "What if we want to split up our lineplot by familiar and novel trials? Seaborn makes this super easy by allowing you to pass a label to `hue`."
   ]
  },
  {
   "cell_type": "code",
   "execution_count": null,
   "metadata": {},
   "outputs": [],
   "source": [
    "sns.lineplot(data = data, x = 'time_from_stim', y = 'dF/F', hue = 'exposure')"
   ]
  },
  {
   "cell_type": "markdown",
   "metadata": {},
   "source": [
    "Notice how seaborn always includes error intervals? We can turn thes off if we'd like, but let's leave them be for now. Let's now check the documentation to find other ways to split up data."
   ]
  },
  {
   "cell_type": "code",
   "execution_count": null,
   "metadata": {},
   "outputs": [],
   "source": [
    "sns.lineplot(data = data, x = 'time_from_stim' , y = 'dF/F', hue = 'exposure', style = 'omitted')"
   ]
  },
  {
   "cell_type": "markdown",
   "metadata": {},
   "source": [
    "## Problem 2\n",
    "1) Can you figure out how to make a histogram of pupil area in Seaborn? Here's some edited data for you to use. <br>\n",
    "2) Once you do this, can you figure out how to split the histogram by `exposure`? <br>\n",
    "3) CHALLENGE: If you have more time, play around with your plot! Be creative and see what else you can add to your histogram, using the documentation as a guide."
   ]
  },
  {
   "cell_type": "code",
   "execution_count": null,
   "metadata": {},
   "outputs": [],
   "source": [
    "data_sample = data.sample(1000)"
   ]
  },
  {
   "cell_type": "code",
   "execution_count": null,
   "metadata": {},
   "outputs": [],
   "source": []
  },
  {
   "cell_type": "code",
   "execution_count": null,
   "metadata": {},
   "outputs": [],
   "source": []
  },
  {
   "cell_type": "markdown",
   "metadata": {},
   "source": [
    "### Saving Figures\n",
    "Saving figures can be tricky at times. You have to specify a high DPI (>100, depends on the size of your plot) if you want decent resolution, and sometimes axes can get lopped off."
   ]
  },
  {
   "cell_type": "code",
   "execution_count": null,
   "metadata": {},
   "outputs": [],
   "source": [
    "plt.figure(figsize=(8,4))\n",
    "sns.lineplot(data = data, x = 'time_from_stim' , y = 'dF/F', hue = 'exposure', style = 'omitted')\n",
    "plt.xlabel('Delta Stim')\n",
    "plt.ylabel('dF/F')\n",
    "plt.title('Real Data')\n",
    "\n",
    "plt.savefig('my_figure.png', dpi = 300)"
   ]
  },
  {
   "cell_type": "markdown",
   "metadata": {},
   "source": [
    "Oh no! Our axes, it's broken!"
   ]
  },
  {
   "cell_type": "code",
   "execution_count": null,
   "metadata": {},
   "outputs": [],
   "source": [
    "plt.figure(figsize=(8,4))\n",
    "sns.lineplot(data = data, x = 'time_from_stim' , y = 'dF/F', hue = 'exposure', style = 'omitted')\n",
    "plt.xlabel('Delta Stim')\n",
    "plt.ylabel('dF/F')\n",
    "plt.title('Real Data')\n",
    "#use this bbox_inches command to fix things\n",
    "plt.savefig('my_figure.png', dpi = 300, bbox_inches = 'tight')"
   ]
  },
  {
   "cell_type": "markdown",
   "metadata": {},
   "source": [
    "## Object-Oriented Programming (OOP)\n",
    "\n",
    "**Object-oriented programming** is a style of programming that is used heavily in Python packages. To understand waht it is, let's understand what it's not: **functional programming**."
   ]
  },
  {
   "cell_type": "code",
   "execution_count": null,
   "metadata": {},
   "outputs": [],
   "source": [
    "#imports\n",
    "from datetime import date\n",
    "from abc import ABC, abstractmethod\n",
    "import numpy as np\n",
    "import pandas as pd"
   ]
  },
  {
   "cell_type": "markdown",
   "metadata": {},
   "source": [
    "This is functional-style code - take just a few minutes to guess what this will output."
   ]
  },
  {
   "cell_type": "code",
   "execution_count": null,
   "metadata": {},
   "outputs": [],
   "source": [
    "abhi = {'name': 'Abhi',\n",
    "        'units': [6,7,8],\n",
    "        'cblind': True}\n",
    "\n",
    "sharon = {'name': 'Sharon',\n",
    "        'units': [1,2],\n",
    "        'cblind': False}\n",
    "\n",
    "def print_teacher_info(teacher):\n",
    "    if teacher['cblind']:\n",
    "        cblind = 'is'\n",
    "    else:\n",
    "        cblind = 'is NOT'\n",
    "    print(teacher['name'] + ' is teaching units ' + str(teacher['units']) + ' and ' + cblind + ' colorblind!')\n",
    "    \n",
    "print_teacher_info(abhi)\n",
    "print_teacher_info(sharon)"
   ]
  },
  {
   "cell_type": "code",
   "execution_count": null,
   "metadata": {},
   "outputs": [],
   "source": [
    "#ENTER YOUR GUESS HERE, AND THEN RUN THE CODE ABOVE TO CHECK"
   ]
  },
  {
   "cell_type": "markdown",
   "metadata": {},
   "source": [
    "Now, let's look at an OOP example of the same code."
   ]
  },
  {
   "cell_type": "code",
   "execution_count": null,
   "metadata": {},
   "outputs": [],
   "source": [
    "class Teacher:\n",
    "    \n",
    "    def __init__(self, name, units, colorblind):\n",
    "        self.name = name\n",
    "        self.units = units\n",
    "        self.colorblind = colorblind\n",
    "        \n",
    "    def print_teacher_info(self):\n",
    "        if self.colorblind:\n",
    "            cblind = 'is'\n",
    "        else:\n",
    "            cblind = 'is NOT'\n",
    "        print(self.name + ' is teaching units ' + str(self.units) + ' and ' + cblind + ' colorblind!')\n",
    "        \n",
    "abhi = Teacher('Abhi', [7,8,9], True)\n",
    "sam = Teacher('Sam', [4,5,6], False)\n",
    "abhi.print_teacher_info()\n",
    "sam.print_teacher_info()"
   ]
  },
  {
   "cell_type": "markdown",
   "metadata": {},
   "source": [
    "#### What is OOP?\n",
    "At it's root, OOP is about encapsulation and modularity. We'll go over the specifics in the lesson today!\n",
    "\n",
    "\n",
    "As you can see, it is possible to use both functional and OOP coding styles in Python. Today, we're going to go over exactly what OOP is, what it's useful for, and how to read OOP code."
   ]
  },
  {
   "cell_type": "markdown",
   "metadata": {},
   "source": [
    "### Classes and objexts\n",
    "We've actually already used OOP before! For example, does the code below look familiar?"
   ]
  },
  {
   "cell_type": "code",
   "execution_count": null,
   "metadata": {},
   "outputs": [],
   "source": [
    "df = pd.DataFrame([1,2,3])"
   ]
  },
  {
   "cell_type": "markdown",
   "metadata": {},
   "source": [
    "In this code, df is an **object**, defined in the DatFrame **class**. Confusing?\n",
    "\n",
    "Let's use an analogy: the class is a recipe, and the object is the food you make using that recipe.\n",
    "In fact, almost everything in Python is an object. For example:"
   ]
  },
  {
   "cell_type": "code",
   "execution_count": null,
   "metadata": {},
   "outputs": [],
   "source": [
    "a = 3.1\n",
    "b = int(3)\n",
    "print(type(a))\n",
    "print(type(b))"
   ]
  },
  {
   "cell_type": "markdown",
   "metadata": {},
   "source": [
    "See how it says class? What do we think type (df) will return?"
   ]
  },
  {
   "cell_type": "code",
   "execution_count": null,
   "metadata": {},
   "outputs": [],
   "source": [
    "type(df)"
   ]
  },
  {
   "cell_type": "markdown",
   "metadata": {},
   "source": [
    "#### Example class code\n",
    "Now let's go over how to use classes and objects in detail. Run the code below to load in our custom `Experiment` class. Remember that this class is like a recipe to make specific objects!"
   ]
  },
  {
   "cell_type": "code",
   "execution_count": null,
   "metadata": {},
   "outputs": [],
   "source": [
    "#Run this code to load the class\n",
    "class Experiment:\n",
    "        \n",
    "    def __init__(self, path_to_expt, expt_date, experimenter):\n",
    "        self.path_to_expt = path_to_expt\n",
    "        self.expt_date = expt_date\n",
    "        self.experimenter = experimenter\n",
    "        self.generated_date = date.today()\n",
    "        print('Constructor called')\n",
    "        \n",
    "    def print_expt_info(self):\n",
    "        print('Path: ', self.path_to_expt)\n",
    "        print('Experiment Date: ', self.expt_date)\n",
    "        print('Experimenter: ', self.experimenter)\n",
    "        print('Generation Date: ', self.generated_date)\n",
    "        \n",
    "    def return_data(self):\n",
    "        return 'There is no data here for now'"
   ]
  },
  {
   "cell_type": "markdown",
   "metadata": {},
   "source": [
    "Let's pause to go through what's inside the class code. \n",
    "First, we have a function called `__init__`. This is a **constructor**, and it will be run anytime you create an object from this class. The constructor is a place to put commands that you create an object: for example, here we assign some attributes (or variables) associated with out class.\n",
    "\n",
    "Let's see the constructor in action by creating an object First, we create an object named `expt`, by calling `Experiment` and providing information. This process is called **instantiation**."
   ]
  },
  {
   "cell_type": "code",
   "execution_count": null,
   "metadata": {},
   "outputs": [],
   "source": [
    "expt = Experiment('experiment.csv', '342321', 'Abhi')"
   ]
  },
  {
   "cell_type": "markdown",
   "metadata": {},
   "source": [
    "What happened here is we created an object called `expt` from Experiment, which automatically ran the constructor. Notice that when we instantiated our object, we provided information to the function call, just like you would with any other function. We can access this data, as in our constructor we save the data to the object using the **self** command."
   ]
  },
  {
   "cell_type": "code",
   "execution_count": null,
   "metadata": {},
   "outputs": [],
   "source": [
    "expt.expt_date"
   ]
  },
  {
   "cell_type": "markdown",
   "metadata": {},
   "source": [
    "We've already seen attributes before - can you think of an example?"
   ]
  },
  {
   "cell_type": "code",
   "execution_count": null,
   "metadata": {},
   "outputs": [],
   "source": [
    "np.array([1,2,3]).shape"
   ]
  },
  {
   "cell_type": "markdown",
   "metadata": {},
   "source": [
    "\n",
    "We can also call functions within the class. For example:"
   ]
  },
  {
   "cell_type": "code",
   "execution_count": null,
   "metadata": {},
   "outputs": [],
   "source": [
    "expt.print_expt_info()"
   ]
  },
  {
   "cell_type": "markdown",
   "metadata": {},
   "source": [
    "What happens if we try to call the function directly?"
   ]
  },
  {
   "cell_type": "code",
   "execution_count": null,
   "metadata": {},
   "outputs": [],
   "source": [
    "#print_expt_info()\n",
    "Experiment.print_expt_info()"
   ]
  },
  {
   "cell_type": "markdown",
   "metadata": {},
   "source": [
    "In OOP, self refers to the *object itself*. That is to say: you can't call a function without an object. We can get a little hacky and pass in the object though."
   ]
  },
  {
   "cell_type": "code",
   "execution_count": null,
   "metadata": {},
   "outputs": [],
   "source": [
    "Experiment.print_expt_info(self=expt)"
   ]
  },
  {
   "cell_type": "markdown",
   "metadata": {},
   "source": [
    "This is what happens when you call functions from a class - it just happens to pass `self` (a reference to the object) in for you!"
   ]
  },
  {
   "cell_type": "markdown",
   "metadata": {},
   "source": [
    "### Problem 3\n",
    "\n",
    "Modify the code from the cells above to add another argument to the constructor called `results`. Then, create an object of your class, and call  `print_expt_info`."
   ]
  },
  {
   "cell_type": "code",
   "execution_count": null,
   "metadata": {},
   "outputs": [],
   "source": [
    "#Edit this code to add an argument to the constructor, and then create an object from the class that utilizes the new argument.\n",
    "class Experiment:\n",
    "        \n",
    "    #HI, I AM THE CONSTRUCTOR\n",
    "    def __init__(self, path_to_expt, expt_date, experimenter):\n",
    "        self.path_to_expt = path_to_expt\n",
    "        self.expt_date = expt_date\n",
    "        self.experimenter = experimenter\n",
    "        self.generated_date = date.today()\n",
    "        print('Constructor called')\n",
    "        \n",
    "    def print_expt_info(self):\n",
    "        print('Path: ', self.path_to_expt)\n",
    "        print('Experiment Date: ', self.expt_date)\n",
    "        print('Experimenter: ', self.experimenter)\n",
    "        print('Generation Date: ', self.generated_date)\n",
    "        \n",
    "    def return_data(self):\n",
    "        return 'There is no data here for now'"
   ]
  },
  {
   "cell_type": "code",
   "execution_count": null,
   "metadata": {},
   "outputs": [],
   "source": []
  },
  {
   "cell_type": "markdown",
   "metadata": {},
   "source": [
    "#### Making multiple objects\n",
    "A class can support many independent objects! Back to the analogy: if I have two recipes for a pumpkin pie, I can make two pumpkin pies, and if I put whipped cream on one, then it won't magically appear on the other.\n",
    "\n",
    "Let's make two objects from a new class, and see if modifying one affects the other. |"
   ]
  },
  {
   "cell_type": "code",
   "execution_count": null,
   "metadata": {},
   "outputs": [],
   "source": [
    "class BehaviorExperiment:\n",
    "    \n",
    "    def __init__(self, head_turn, freezing):\n",
    "        self.head_turn = head_turn\n",
    "        self.freezing = freezing\n",
    "        self.time = date.today()\n",
    "        \n",
    "    def print_info(self):\n",
    "        print(self.head_turn)\n",
    "        print(self.freezing)\n",
    "        print(self.time)\n",
    "        \n",
    "    def calc_velocity(self):\n",
    "        self.velocity = self.head_turn * 2\n",
    "        return self.velocity"
   ]
  },
  {
   "cell_type": "code",
   "execution_count": null,
   "metadata": {},
   "outputs": [],
   "source": [
    "beh_expt1 = BehaviorExperiment(5, True)\n",
    "beh_expt1.print_info()\n"
   ]
  },
  {
   "cell_type": "code",
   "execution_count": null,
   "metadata": {},
   "outputs": [],
   "source": [
    "velocity = beh_expt1.calc_velocity()\n",
    "print(velocity)"
   ]
  },
  {
   "cell_type": "code",
   "execution_count": null,
   "metadata": {},
   "outputs": [],
   "source": [
    "beh_expt2 = BehaviorExperiment(20, False)\n",
    "beh_expt1.print_info()\n",
    "beh_expt2.print_info()"
   ]
  },
  {
   "cell_type": "markdown",
   "metadata": {},
   "source": [
    "### Inheritance and polymorphism\n",
    "\n",
    "As I mentioned earlier, one of the important features of OOP is modularity. Let's go back to the recipe analogy I mentioned earlier. Say we had a recipe for cooking a cake, in general. What if we wanted to bake a vanilla cake? I could write a totally new recipe, but that would be redundant. Instead, what I could do is simply change the section where I add flavorings to the cake mix.\n",
    "\n",
    "Inheritance is exactly this concept: you can create child classes that inherit from a parent class. Let's see what this means using an example."
   ]
  },
  {
   "cell_type": "code",
   "execution_count": null,
   "metadata": {},
   "outputs": [],
   "source": [
    "#Run this code to load the class\n",
    "class Experiment:\n",
    "        \n",
    "    def __init__(self, path_to_expt, expt_date, experimenter):\n",
    "        self.path_to_expt = path_to_expt\n",
    "        self.expt_date = expt_date\n",
    "        self.experimenter = experimenter\n",
    "        self.generated_date = date.today()\n",
    "        print('Constructor called')\n",
    "        \n",
    "    def print_expt_info(self):\n",
    "        print('Path: ', self.path_to_expt)\n",
    "        print('Experiment Date: ', self.expt_date)\n",
    "        print('Experimenter: ', self.experimenter)\n",
    "        print('Generation Date: ', self.generated_date)\n",
    "        \n",
    "    def return_data(self):\n",
    "        return 'There is no data here for now'"
   ]
  },
  {
   "cell_type": "markdown",
   "metadata": {},
   "source": [
    "Now, we have a small child class that **inherits** from and **extends** a parent class. Notice the syntax: we just place the name of the parent class in the parenthes at the beginning of the class."
   ]
  },
  {
   "cell_type": "code",
   "execution_count": null,
   "metadata": {},
   "outputs": [],
   "source": [
    "class ImagingExperiment(Experiment):\n",
    "    \n",
    "    def __init__(self, path_to_expt, expt_date, experimenter, frame_rate):\n",
    "        self.frame_rate = frame_rate\n",
    "        #Super refers to our parent class\n",
    "        print('Imaging constructor called')\n",
    "        super().__init__(path_to_expt, expt_date, experimenter)\n",
    "    \n",
    "    #This is a new function!\n",
    "    def print_frame_rate(self):\n",
    "        print('Frame Rate: {} Hz'.format(self.frame_rate))\n",
    "    \n",
    "    #This is an old function we modified!\n",
    "    def return_data(self):\n",
    "        return 'Pretend that I am imaging data' "
   ]
  },
  {
   "cell_type": "markdown",
   "metadata": {},
   "source": [
    "Let's start by creating an object of our new class: anyone remember how to do this?"
   ]
  },
  {
   "cell_type": "code",
   "execution_count": null,
   "metadata": {},
   "outputs": [],
   "source": [
    "imaging_expt = ImagingExperiment('experiment_file.csv', '031122', 'Abhi', 30)"
   ]
  },
  {
   "cell_type": "markdown",
   "metadata": {},
   "source": [
    "A few things to unpack: <br>\n",
    "1) Notice how we are providing one more argument to the constructor. Let's follow this number.\n",
    "2) See how the imaging constructor is called first, and then the constructor for the parent experiment class?\n",
    "3) What do we think the type of our new object will be?"
   ]
  },
  {
   "cell_type": "code",
   "execution_count": null,
   "metadata": {},
   "outputs": [],
   "source": [
    "type(imaging_expt)"
   ]
  },
  {
   "cell_type": "markdown",
   "metadata": {},
   "source": [
    "Now, let's understand these new functions."
   ]
  },
  {
   "cell_type": "code",
   "execution_count": null,
   "metadata": {},
   "outputs": [],
   "source": [
    "imaging_expt.print_frame_rate()"
   ]
  },
  {
   "cell_type": "markdown",
   "metadata": {},
   "source": [
    "That seems self-explanatory - that's a new function we added. Do the old ones still work?"
   ]
  },
  {
   "cell_type": "code",
   "execution_count": null,
   "metadata": {},
   "outputs": [],
   "source": [
    "imaging_expt.print_expt_info()"
   ]
  },
  {
   "cell_type": "markdown",
   "metadata": {},
   "source": [
    "Ok, what about return_data? What do we think it will output?"
   ]
  },
  {
   "cell_type": "code",
   "execution_count": null,
   "metadata": {},
   "outputs": [],
   "source": [
    "imaging_expt.return_data()"
   ]
  },
  {
   "cell_type": "markdown",
   "metadata": {},
   "source": [
    "See how we've created a new version of `return_data`? This is called polymorphism - a single function can take many forms in OOP. This is useful, because often you want a child class to subtly modify or add to a parent class. Think about a vegan cake - the general steps might be the same, but you'd want to go back and modify some of the tasks you're peforming to include different ingredients."
   ]
  },
  {
   "cell_type": "markdown",
   "metadata": {},
   "source": [
    "### Problem 4\n",
    "Just as we did with ImagingExperiment, create a class called BehaviorExperiment that inherits from Experiment. In this class, please take in a `behavior_task` variable instead of `frame_rate`. Create a new function in lieu of `frame_rate` to print your `behavior_task`.  In addition, please write a modified `return_data` function to print your behavior task. Use the templates above and don't be afraid of copying and pasting!"
   ]
  },
  {
   "cell_type": "code",
   "execution_count": null,
   "metadata": {},
   "outputs": [],
   "source": []
  },
  {
   "cell_type": "code",
   "execution_count": null,
   "metadata": {},
   "outputs": [],
   "source": []
  },
  {
   "cell_type": "code",
   "execution_count": null,
   "metadata": {},
   "outputs": [],
   "source": []
  },
  {
   "cell_type": "code",
   "execution_count": null,
   "metadata": {},
   "outputs": [],
   "source": []
  }
 ],
 "metadata": {
  "kernelspec": {
   "display_name": "intropython",
   "language": "python",
   "name": "python3"
  },
  "language_info": {
   "codemirror_mode": {
    "name": "ipython",
    "version": 3
   },
   "file_extension": ".py",
   "mimetype": "text/x-python",
   "name": "python",
   "nbconvert_exporter": "python",
   "pygments_lexer": "ipython3",
   "version": "3.10.12"
  }
 },
 "nbformat": 4,
 "nbformat_minor": 2
}
