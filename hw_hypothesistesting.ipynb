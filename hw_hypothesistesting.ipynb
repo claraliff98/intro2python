{
 "cells": [
  {
   "cell_type": "markdown",
   "metadata": {},
   "source": [
    "Clara Liff"
   ]
  },
  {
   "cell_type": "code",
   "execution_count": 1,
   "metadata": {},
   "outputs": [],
   "source": [
    "#1\n",
    "import scipy.io\n",
    "import scipy.stats\n",
    "import numpy as np\n",
    "import matplotlib.pyplot as plt\n",
    "import pickle"
   ]
  },
  {
   "cell_type": "code",
   "execution_count": null,
   "metadata": {},
   "outputs": [],
   "source": [
    "#a\n",
    "def calcfanofac(M,tstart,tend):\n",
    "    S = np.sum(M[:,tstart:tend],axis=1)\n",
    "    FF = np.var(S)/np.mean(S)\n",
    "    \n",
    "    return FF"
   ]
  },
  {
   "cell_type": "code",
   "execution_count": null,
   "metadata": {},
   "outputs": [],
   "source": [
    "#b\n",
    "PMDdata = pickle.load(open(\"PMDdata.pkl\",\"rb\"))\n",
    "N = len(PMDdata)\n",
    "# time bins\n",
    "pre_start = 300\n",
    "pre_end = 400\n",
    "post_start = 500\n",
    "post_end = 600\n",
    "# Fano factors for each sample\n",
    "fano_pre = np.zeros(N)\n",
    "fano_post = np.zeros(N)\n",
    "# loop over samples, get spikes and compute Fano factors\n",
    "for ii in range(N):\n",
    "    M = PMDdata[ii]\n",
    "    fano_pre[ii] = calcfanofac(M,pre_start,pre_end)\n",
    "    fano_post[ii] = calcfanofac(M,post_start,post_end)\n",
    "# ignore samples that have NaN values\n",
    "valid_inds = ~(np.isnan(fano_pre) | np.isnan(fano_post))\n",
    "fano_pre = fano_pre[valid_inds]\n",
    "fano_post = fano_post[valid_inds]"
   ]
  },
  {
   "cell_type": "code",
   "execution_count": null,
   "metadata": {},
   "outputs": [],
   "source": [
    "#c\n",
    "fano_pre_avg = np.mean(fano_pre)\n",
    "fano_post_avg = np.mean(fano_post)\n",
    "\n",
    "print('fano_pre average: '+str(fano_pre_avg)+'\\nfano_post average: '+str(fano_post_avg))\n",
    "counts, bins = np.histogram(fano_pre)\n",
    "plt.stairs(counts, bins, label='fano_pre');\n",
    "counts, bins = np.histogram(fano_post)\n",
    "plt.stairs(counts, bins, label='fano_post');\n",
    "plt.title('Fano factors before and after reach')\n",
    "plt.xlabel('Fano factor')\n",
    "plt.ylabel('frequency')\n",
    "plt.legend();\n",
    "# You can use a paired test because the measurements are from the same cells\n",
    "# Wilcoxon signed-rank test, p-value = 1.4955603795016292e-148\n",
    "scipy.stats.wilcoxon(fano_pre,fano_post)"
   ]
  },
  {
   "cell_type": "code",
   "execution_count": null,
   "metadata": {},
   "outputs": [],
   "source": [
    "#2\n",
    "#a\n",
    "J = np.load('kcs.npz')[\"J\"]\n",
    "conns = np.sum(J,1); # connections per Kenyon cell\n",
    "N_KC = np.size(J,0) # number of Kenyon cells\n",
    "N_PN = np.size(J,1) # number of presynaptic projection neurons\n",
    "conn_prob = np.mean(J) # connection probability\n",
    "\n",
    "edges = np.arange(12)\n",
    "K_data = np.histogram(conns,edges)[:11][0]\n",
    "Ntrials=1000\n",
    "K_shuffle = np.zeros([Ntrials,11])\n",
    "for ti in range(Ntrials):\n",
    "    J_shuffle = np.random.rand(N_KC,N_PN) < conn_prob\n",
    "    conns_shuffle = np.sum(J_shuffle,1)\n",
    "    K_shuffle[ti,:] = np.histogram(conns_shuffle,edges)[:11][0]"
   ]
  },
  {
   "cell_type": "code",
   "execution_count": null,
   "metadata": {},
   "outputs": [],
   "source": [
    "#b\n",
    "pvals = np.zeros(11)\n",
    "for i in range(11):\n",
    "    greater_equal = len(K_shuffle[K_shuffle[:,i] >= K_data[i]])/Ntrials\n",
    "    less_equal = len(K_shuffle[K_shuffle[:,i] <= K_data[i]])/Ntrials\n",
    "    min_fraction = min(greater_equal,less_equal)\n",
    "    pvals[i] = min_fraction\n",
    "print(pvals)"
   ]
  },
  {
   "cell_type": "code",
   "execution_count": null,
   "metadata": {},
   "outputs": [],
   "source": [
    "#c\n",
    "alpha = 0.05/11 # to account for multiple comparisons\n",
    "for i in range(len(pvals)):\n",
    "    if pvals[i] < alpha:\n",
    "        print('k='+str(i))"
   ]
  }
 ],
 "metadata": {
  "kernelspec": {
   "display_name": "intropython",
   "language": "python",
   "name": "python3"
  },
  "language_info": {
   "codemirror_mode": {
    "name": "ipython",
    "version": 3
   },
   "file_extension": ".py",
   "mimetype": "text/x-python",
   "name": "python",
   "nbconvert_exporter": "python",
   "pygments_lexer": "ipython3",
   "version": "3.10.12"
  }
 },
 "nbformat": 4,
 "nbformat_minor": 2
}
